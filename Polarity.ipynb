{
 "metadata": {
  "language_info": {
   "codemirror_mode": {
    "name": "ipython",
    "version": 3
   },
   "file_extension": ".py",
   "mimetype": "text/x-python",
   "name": "python",
   "nbconvert_exporter": "python",
   "pygments_lexer": "ipython3",
   "version": "3.8.5"
  },
  "orig_nbformat": 2,
  "kernelspec": {
   "name": "python385jvsc74a57bd0ac52dd89a7189bfe1fdd8c2ca3ed988d1038ffed7772cb42bac30e72814b668e",
   "display_name": "Python 3.8.5 32-bit"
  }
 },
 "nbformat": 4,
 "nbformat_minor": 2,
 "cells": [
  {
   "cell_type": "code",
   "execution_count": 1,
   "metadata": {},
   "outputs": [
    {
     "output_type": "stream",
     "name": "stderr",
     "text": [
      "[nltk_data] Downloading package vader_lexicon to\n[nltk_data]     C:\\Users\\jacop\\AppData\\Roaming\\nltk_data...\n[nltk_data]   Package vader_lexicon is already up-to-date!\n"
     ]
    },
    {
     "output_type": "execute_result",
     "data": {
      "text/plain": [
       "True"
      ]
     },
     "metadata": {},
     "execution_count": 1
    }
   ],
   "source": [
    "import pandas as pd\n",
    "import plotly.offline as pyo\n",
    "import plotly.graph_objs as go\n",
    "import numpy as np\n",
    "\n",
    "from afinn import Afinn\n",
    "from textblob import TextBlob\n",
    "\n",
    "import nltk\n",
    "from nltk.sentiment.vader import SentimentIntensityAnalyzer\n",
    "\n",
    "nltk.download('vader_lexicon')"
   ]
  },
  {
   "cell_type": "code",
   "execution_count": 2,
   "metadata": {},
   "outputs": [],
   "source": [
    "# Polarity textblob\n",
    "\n",
    "def textblob_polarity(text):\n",
    "    return TextBlob(text).sentiment.polarity"
   ]
  },
  {
   "cell_type": "code",
   "execution_count": 3,
   "metadata": {},
   "outputs": [],
   "source": [
    "# Categorize Vader\n",
    "\n",
    "def vader_analysis(score):\n",
    "    if score['compound'] >= 0.05:\n",
    "        return 'Positive'\n",
    "    elif score['compound'] <= -0.5:\n",
    "        return 'Negative'\n",
    "    else:\n",
    "        return 'Neutral'"
   ]
  },
  {
   "cell_type": "code",
   "execution_count": 4,
   "metadata": {},
   "outputs": [],
   "source": [
    "# Categorize\n",
    "\n",
    "def getAnalysis(score):\n",
    "    if score < 0:\n",
    "        return 'Negative'\n",
    "    elif score == 0:\n",
    "        return 'Neutral'\n",
    "    else:\n",
    "        return 'Positive'"
   ]
  },
  {
   "cell_type": "code",
   "execution_count": 5,
   "metadata": {},
   "outputs": [],
   "source": [
    "df = pd.read_csv(r\"C:\\Users\\jacop\\Desktop\\DSlab B&M\\DsLab_temp\\Moderna_Feb_Comb.csv\")\n",
    "df1 = pd.read_csv(r\"C:\\Users\\jacop\\Desktop\\DSlab B&M\\DsLab_temp\\febbraio_pfizer.csv\")\n",
    "df2 = pd.read_csv(r\"C:\\Users\\jacop\\Desktop\\DSlab B&M\\DsLab_temp\\AZ_febbraio.csv\")\n",
    "AZ_marzo = pd.read_csv(r\"C:\\Users\\jacop\\Desktop\\DSlab B&M\\DsLab_temp\\AZ_marzo.csv\")\n",
    "Pf_marzo = pd.read_csv(r\"C:\\Users\\jacop\\Desktop\\DSlab B&M\\DsLab_temp\\marzo_pfizer.csv\")\n",
    "Mod_marzo = pd.read_csv(r\"C:\\Users\\jacop\\Desktop\\DSlab B&M\\DsLab_temp\\Moderna_Marzo_Comb.csv\")"
   ]
  },
  {
   "cell_type": "code",
   "execution_count": 6,
   "metadata": {},
   "outputs": [],
   "source": [
    "Moderna = pd.concat([df, Mod_marzo])\n",
    "Pfizer = pd.concat([df1, Pf_marzo])\n",
    "AstraZeneca = pd.concat([df2, AZ_marzo])"
   ]
  },
  {
   "cell_type": "code",
   "execution_count": 7,
   "metadata": {},
   "outputs": [],
   "source": [
    "Moderna.drop(columns='polarity', inplace=True)\n",
    "Pfizer.drop(columns='polarity', inplace=True)\n",
    "AstraZeneca.drop(columns='polarity', inplace=True)"
   ]
  },
  {
   "cell_type": "code",
   "execution_count": 8,
   "metadata": {},
   "outputs": [],
   "source": [
    "# Cleaning del testo\n",
    "Moderna.english = Moderna.english.replace(\"#\", \"\",regex=True)\n",
    "Moderna.english = Moderna.english.replace(\"@\\S*\", \"\",regex=True)\n",
    "Moderna.english = Moderna.english.replace(\"https\\S*\", ' ',regex=True)\n",
    "Moderna.english = Moderna.english.replace('\\s+', ' ',regex=True)\n",
    "\n",
    "# Cleaning del testo 1\n",
    "Pfizer.english = Pfizer.english.replace(\"#\", \"\",regex=True)\n",
    "Pfizer.english = Pfizer.english.replace(\"@\\S*\", \"\",regex=True)\n",
    "Pfizer.english = Pfizer.english.replace(\"https\\S*\", ' ',regex=True)\n",
    "Pfizer.english = Pfizer.english.replace('\\s+', ' ',regex=True)\n",
    "\n",
    "# Cleaning del testo\n",
    "AstraZeneca.english = AstraZeneca.english.replace(\"#\", \"\",regex=True)\n",
    "AstraZeneca.english = AstraZeneca.english.replace(\"@\\S*\", \"\",regex=True)\n",
    "AstraZeneca.english = AstraZeneca.english.replace(\"https\\S*\", ' ',regex=True)\n",
    "AstraZeneca.english = AstraZeneca.english.replace('\\s+', ' ',regex=True)"
   ]
  },
  {
   "cell_type": "code",
   "execution_count": 9,
   "metadata": {},
   "outputs": [],
   "source": [
    "analyzer = SentimentIntensityAnalyzer()\n",
    "afin = Afinn()"
   ]
  },
  {
   "cell_type": "code",
   "execution_count": 10,
   "metadata": {},
   "outputs": [],
   "source": [
    "Moderna['blob polarity'] = Moderna['english'].apply(textblob_polarity)"
   ]
  },
  {
   "cell_type": "code",
   "execution_count": 11,
   "metadata": {},
   "outputs": [],
   "source": [
    "Moderna['vader polarity'] = Moderna['english'].apply(lambda x: analyzer.polarity_scores(x)['compound'])"
   ]
  },
  {
   "cell_type": "code",
   "execution_count": 12,
   "metadata": {},
   "outputs": [],
   "source": [
    "Moderna['afinn polarity'] = Moderna['english'].apply(lambda x: afin.score(x))"
   ]
  },
  {
   "cell_type": "code",
   "execution_count": 13,
   "metadata": {},
   "outputs": [
    {
     "output_type": "execute_result",
     "data": {
      "text/plain": [
       "   Unnamed: 0  retweet                 data             user  \\\n",
       "0           0    False  2021-02-01 19:58:01  AurelianoStingi   \n",
       "1           1     True  2021-02-01 19:57:07  Marilen97832318   \n",
       "2           2     True  2021-02-01 19:57:04       scastaldi9   \n",
       "3           3     True  2021-02-01 19:56:05          elivito   \n",
       "4           4    False  2021-02-01 19:55:20          cdsnews   \n",
       "\n",
       "                                               testo  retweet count  \\\n",
       "0  @marcobobabo @burioni still, moderna e Pfizer ...              0   \n",
       "1  Mai sottovalutare i danni che possono fare que...              0   \n",
       "2  @agustin_gut @scastaldi9 @Rebeka80721106 @Cris...              0   \n",
       "3  Mai sottovalutare i danni che possono fare que...              0   \n",
       "4  #attualita    #sarzana   #valdimagra    - Arri...              1   \n",
       "\n",
       "                                             english  blob polarity  \\\n",
       "0     Still, modern and Pfizer are comparable. why?           0.200   \n",
       "1  Never underestimate the damages that can make ...         -0.600   \n",
       "2   scastaldi9 Rebeka80721106 VeronicaUgarte4 lis...          0.225   \n",
       "3  Never underestimate the damages that can make ...         -0.600   \n",
       "4  TaTualita Sarzana Valdimagra - Arrive at San B...          0.200   \n",
       "\n",
       "   vader polarity  afinn polarity  \n",
       "0          0.0000             0.0  \n",
       "1          0.2249            -6.0  \n",
       "2          0.6597             5.0  \n",
       "3          0.2249            -6.0  \n",
       "4          0.0000             0.0  "
      ],
      "text/html": "<div>\n<style scoped>\n    .dataframe tbody tr th:only-of-type {\n        vertical-align: middle;\n    }\n\n    .dataframe tbody tr th {\n        vertical-align: top;\n    }\n\n    .dataframe thead th {\n        text-align: right;\n    }\n</style>\n<table border=\"1\" class=\"dataframe\">\n  <thead>\n    <tr style=\"text-align: right;\">\n      <th></th>\n      <th>Unnamed: 0</th>\n      <th>retweet</th>\n      <th>data</th>\n      <th>user</th>\n      <th>testo</th>\n      <th>retweet count</th>\n      <th>english</th>\n      <th>blob polarity</th>\n      <th>vader polarity</th>\n      <th>afinn polarity</th>\n    </tr>\n  </thead>\n  <tbody>\n    <tr>\n      <th>0</th>\n      <td>0</td>\n      <td>False</td>\n      <td>2021-02-01 19:58:01</td>\n      <td>AurelianoStingi</td>\n      <td>@marcobobabo @burioni still, moderna e Pfizer ...</td>\n      <td>0</td>\n      <td>Still, modern and Pfizer are comparable. why?</td>\n      <td>0.200</td>\n      <td>0.0000</td>\n      <td>0.0</td>\n    </tr>\n    <tr>\n      <th>1</th>\n      <td>1</td>\n      <td>True</td>\n      <td>2021-02-01 19:57:07</td>\n      <td>Marilen97832318</td>\n      <td>Mai sottovalutare i danni che possono fare que...</td>\n      <td>0</td>\n      <td>Never underestimate the damages that can make ...</td>\n      <td>-0.600</td>\n      <td>0.2249</td>\n      <td>-6.0</td>\n    </tr>\n    <tr>\n      <th>2</th>\n      <td>2</td>\n      <td>True</td>\n      <td>2021-02-01 19:57:04</td>\n      <td>scastaldi9</td>\n      <td>@agustin_gut @scastaldi9 @Rebeka80721106 @Cris...</td>\n      <td>0</td>\n      <td>scastaldi9 Rebeka80721106 VeronicaUgarte4 lis...</td>\n      <td>0.225</td>\n      <td>0.6597</td>\n      <td>5.0</td>\n    </tr>\n    <tr>\n      <th>3</th>\n      <td>3</td>\n      <td>True</td>\n      <td>2021-02-01 19:56:05</td>\n      <td>elivito</td>\n      <td>Mai sottovalutare i danni che possono fare que...</td>\n      <td>0</td>\n      <td>Never underestimate the damages that can make ...</td>\n      <td>-0.600</td>\n      <td>0.2249</td>\n      <td>-6.0</td>\n    </tr>\n    <tr>\n      <th>4</th>\n      <td>4</td>\n      <td>False</td>\n      <td>2021-02-01 19:55:20</td>\n      <td>cdsnews</td>\n      <td>#attualita    #sarzana   #valdimagra    - Arri...</td>\n      <td>1</td>\n      <td>TaTualita Sarzana Valdimagra - Arrive at San B...</td>\n      <td>0.200</td>\n      <td>0.0000</td>\n      <td>0.0</td>\n    </tr>\n  </tbody>\n</table>\n</div>"
     },
     "metadata": {},
     "execution_count": 13
    }
   ],
   "source": [
    "Moderna.head()"
   ]
  },
  {
   "cell_type": "code",
   "execution_count": 18,
   "metadata": {},
   "outputs": [],
   "source": [
    "Pfizer['english'] = Pfizer['english'].astype('string')"
   ]
  },
  {
   "cell_type": "code",
   "execution_count": 22,
   "metadata": {},
   "outputs": [],
   "source": [
    "Pfizer['english'].fillna('-',inplace = True)"
   ]
  },
  {
   "cell_type": "code",
   "execution_count": 23,
   "metadata": {},
   "outputs": [],
   "source": [
    "Pfizer['blob polarity'] = Pfizer['english'].apply(textblob_polarity)"
   ]
  },
  {
   "cell_type": "code",
   "execution_count": 24,
   "metadata": {},
   "outputs": [],
   "source": [
    "Pfizer['vader polarity'] = Pfizer['english'].apply(lambda x: analyzer.polarity_scores(x)['compound'])"
   ]
  },
  {
   "cell_type": "code",
   "execution_count": 25,
   "metadata": {},
   "outputs": [],
   "source": [
    "Pfizer['afinn polarity'] = Pfizer['english'].apply(lambda x: afin.score(x))"
   ]
  },
  {
   "cell_type": "code",
   "execution_count": 26,
   "metadata": {},
   "outputs": [
    {
     "output_type": "execute_result",
     "data": {
      "text/plain": [
       "   Unnamed: 0  retweet                 data             user  \\\n",
       "0           0    False  2021-02-01 19:58:43     infoitesteri   \n",
       "1           1     True  2021-02-01 19:58:10         ombrysan   \n",
       "2           2    False  2021-02-01 19:58:01  AurelianoStingi   \n",
       "3           3     True  2021-02-01 19:57:08  EnrichettaNegri   \n",
       "4           4     True  2021-02-01 19:56:14      cbatcaselli   \n",
       "\n",
       "                                               testo  retweet count  \\\n",
       "0  Pfizer annuncia 75 milioni di dosi aggiuntive ...              0   \n",
       "1  CONFLITTI D'INTERESSE???💢Sei Complottista 😂😂😂👇...              0   \n",
       "2  @marcobobabo @burioni still, moderna e Pfizer ...              0   \n",
       "3  Mercoledì mattina riceverò la prima dose di va...              0   \n",
       "4  È di 21 il bilancio degli anziani morti in una...              0   \n",
       "\n",
       "                                             english  polarity     score  \\\n",
       "0  Pfizer announces 75 million additional doses i...      0.00   neutral   \n",
       "1  Conflicts of interest ??? 💢Sei Complottista 😂😂...      1.00  positive   \n",
       "2     Still, modern and Pfizer are comparable. why?       0.20   neutral   \n",
       "3  Wednesday morning I will receive the first dos...      0.30  positive   \n",
       "4  It is 21 the budget of the elderly dead in a n...     -0.04  negative   \n",
       "\n",
       "   positive  negative  neutral  mese  giorno  settimana  blob polarity  \\\n",
       "0       0.0       0.0      1.0     2       1          1           0.00   \n",
       "1       1.0       0.0      0.0     2       1          1           1.00   \n",
       "2       0.0       0.0      1.0     2       1          1           0.20   \n",
       "3       1.0       0.0      0.0     2       1          1           0.30   \n",
       "4       0.0       1.0      0.0     2       1          1          -0.04   \n",
       "\n",
       "   vader polarity  afinn polarity  \n",
       "0          0.0000             0.0  \n",
       "1          0.7236             3.0  \n",
       "2          0.0000             0.0  \n",
       "3         -0.4707            -5.0  \n",
       "4         -0.9280           -11.0  "
      ],
      "text/html": "<div>\n<style scoped>\n    .dataframe tbody tr th:only-of-type {\n        vertical-align: middle;\n    }\n\n    .dataframe tbody tr th {\n        vertical-align: top;\n    }\n\n    .dataframe thead th {\n        text-align: right;\n    }\n</style>\n<table border=\"1\" class=\"dataframe\">\n  <thead>\n    <tr style=\"text-align: right;\">\n      <th></th>\n      <th>Unnamed: 0</th>\n      <th>retweet</th>\n      <th>data</th>\n      <th>user</th>\n      <th>testo</th>\n      <th>retweet count</th>\n      <th>english</th>\n      <th>polarity</th>\n      <th>score</th>\n      <th>positive</th>\n      <th>negative</th>\n      <th>neutral</th>\n      <th>mese</th>\n      <th>giorno</th>\n      <th>settimana</th>\n      <th>blob polarity</th>\n      <th>vader polarity</th>\n      <th>afinn polarity</th>\n    </tr>\n  </thead>\n  <tbody>\n    <tr>\n      <th>0</th>\n      <td>0</td>\n      <td>False</td>\n      <td>2021-02-01 19:58:43</td>\n      <td>infoitesteri</td>\n      <td>Pfizer annuncia 75 milioni di dosi aggiuntive ...</td>\n      <td>0</td>\n      <td>Pfizer announces 75 million additional doses i...</td>\n      <td>0.00</td>\n      <td>neutral</td>\n      <td>0.0</td>\n      <td>0.0</td>\n      <td>1.0</td>\n      <td>2</td>\n      <td>1</td>\n      <td>1</td>\n      <td>0.00</td>\n      <td>0.0000</td>\n      <td>0.0</td>\n    </tr>\n    <tr>\n      <th>1</th>\n      <td>1</td>\n      <td>True</td>\n      <td>2021-02-01 19:58:10</td>\n      <td>ombrysan</td>\n      <td>CONFLITTI D'INTERESSE???💢Sei Complottista 😂😂😂👇...</td>\n      <td>0</td>\n      <td>Conflicts of interest ??? 💢Sei Complottista 😂😂...</td>\n      <td>1.00</td>\n      <td>positive</td>\n      <td>1.0</td>\n      <td>0.0</td>\n      <td>0.0</td>\n      <td>2</td>\n      <td>1</td>\n      <td>1</td>\n      <td>1.00</td>\n      <td>0.7236</td>\n      <td>3.0</td>\n    </tr>\n    <tr>\n      <th>2</th>\n      <td>2</td>\n      <td>False</td>\n      <td>2021-02-01 19:58:01</td>\n      <td>AurelianoStingi</td>\n      <td>@marcobobabo @burioni still, moderna e Pfizer ...</td>\n      <td>0</td>\n      <td>Still, modern and Pfizer are comparable. why?</td>\n      <td>0.20</td>\n      <td>neutral</td>\n      <td>0.0</td>\n      <td>0.0</td>\n      <td>1.0</td>\n      <td>2</td>\n      <td>1</td>\n      <td>1</td>\n      <td>0.20</td>\n      <td>0.0000</td>\n      <td>0.0</td>\n    </tr>\n    <tr>\n      <th>3</th>\n      <td>3</td>\n      <td>True</td>\n      <td>2021-02-01 19:57:08</td>\n      <td>EnrichettaNegri</td>\n      <td>Mercoledì mattina riceverò la prima dose di va...</td>\n      <td>0</td>\n      <td>Wednesday morning I will receive the first dos...</td>\n      <td>0.30</td>\n      <td>positive</td>\n      <td>1.0</td>\n      <td>0.0</td>\n      <td>0.0</td>\n      <td>2</td>\n      <td>1</td>\n      <td>1</td>\n      <td>0.30</td>\n      <td>-0.4707</td>\n      <td>-5.0</td>\n    </tr>\n    <tr>\n      <th>4</th>\n      <td>4</td>\n      <td>True</td>\n      <td>2021-02-01 19:56:14</td>\n      <td>cbatcaselli</td>\n      <td>È di 21 il bilancio degli anziani morti in una...</td>\n      <td>0</td>\n      <td>It is 21 the budget of the elderly dead in a n...</td>\n      <td>-0.04</td>\n      <td>negative</td>\n      <td>0.0</td>\n      <td>1.0</td>\n      <td>0.0</td>\n      <td>2</td>\n      <td>1</td>\n      <td>1</td>\n      <td>-0.04</td>\n      <td>-0.9280</td>\n      <td>-11.0</td>\n    </tr>\n  </tbody>\n</table>\n</div>"
     },
     "metadata": {},
     "execution_count": 26
    }
   ],
   "source": [
    "Pfizer.head()"
   ]
  },
  {
   "cell_type": "code",
   "execution_count": 27,
   "metadata": {},
   "outputs": [],
   "source": [
    "AstraZeneca['blob polarity'] = AstraZeneca['english'].apply(textblob_polarity)"
   ]
  },
  {
   "cell_type": "code",
   "execution_count": 28,
   "metadata": {},
   "outputs": [],
   "source": [
    "AstraZeneca['vader polarity'] = AstraZeneca['english'].apply(lambda x: analyzer.polarity_scores(x)['compound'])"
   ]
  },
  {
   "cell_type": "code",
   "execution_count": 29,
   "metadata": {},
   "outputs": [],
   "source": [
    "AstraZeneca['afinn polarity'] = AstraZeneca['english'].apply(lambda x: afin.score(x))"
   ]
  },
  {
   "cell_type": "code",
   "execution_count": 30,
   "metadata": {},
   "outputs": [
    {
     "output_type": "execute_result",
     "data": {
      "text/plain": [
       "   retweet                 data            user  \\\n",
       "0     True  2021-02-28 19:58:39   Paolo18030138   \n",
       "1     True  2021-02-28 19:58:24  claire_cocteau   \n",
       "2     True  2021-02-28 19:58:22   Paolo18030138   \n",
       "3    False  2021-02-28 19:58:17     robinaroby1   \n",
       "4     True  2021-02-28 19:57:38       pvsassone   \n",
       "\n",
       "                                               testo  retweet count  \\\n",
       "0  L'Italia non solo avrebbe le capacità di produ...              0   \n",
       "1  Il vaccino J&amp;J è stato autorizzato negli S...              0   \n",
       "2  Vediamo ad Astrazeneca. Il vaccino AZ è un vac...              0   \n",
       "3  Ma solo io mi farei iniettare pure quello marc...              0   \n",
       "4  \"Bisogna sospendere i brevetti per far produrr...              0   \n",
       "\n",
       "                                             english  polarity     score  \\\n",
       "0  Italy would not only have the ability to produ...  0.250000  positive   \n",
       "1  The J & amp; J vaccine was authorized in the U...  0.107143   neutral   \n",
       "2  Let's see Astrazeneca. The AZ vaccine is a vac...  0.150000   neutral   \n",
       "3  But only am I would like to inject that eurosp...  0.000000   neutral   \n",
       "4  \"The patents must be suspended to make Astraze...  0.122917   neutral   \n",
       "\n",
       "   positive  negative  neutral  mese  giorno  settimana  blob polarity  \\\n",
       "0       1.0       0.0      0.0     2      28          4       0.250000   \n",
       "1       0.0       0.0      1.0     2      28          4       0.107143   \n",
       "2       0.0       0.0      1.0     2      28          4       0.150000   \n",
       "3       0.0       0.0      1.0     2      28          4       0.000000   \n",
       "4       0.0       0.0      1.0     2      28          4       0.122917   \n",
       "\n",
       "   vader polarity  afinn polarity  \n",
       "0          0.3182             2.0  \n",
       "1          0.8870             6.0  \n",
       "2          0.2249             2.0  \n",
       "3          0.5574             2.0  \n",
       "4         -0.3195             2.0  "
      ],
      "text/html": "<div>\n<style scoped>\n    .dataframe tbody tr th:only-of-type {\n        vertical-align: middle;\n    }\n\n    .dataframe tbody tr th {\n        vertical-align: top;\n    }\n\n    .dataframe thead th {\n        text-align: right;\n    }\n</style>\n<table border=\"1\" class=\"dataframe\">\n  <thead>\n    <tr style=\"text-align: right;\">\n      <th></th>\n      <th>retweet</th>\n      <th>data</th>\n      <th>user</th>\n      <th>testo</th>\n      <th>retweet count</th>\n      <th>english</th>\n      <th>polarity</th>\n      <th>score</th>\n      <th>positive</th>\n      <th>negative</th>\n      <th>neutral</th>\n      <th>mese</th>\n      <th>giorno</th>\n      <th>settimana</th>\n      <th>blob polarity</th>\n      <th>vader polarity</th>\n      <th>afinn polarity</th>\n    </tr>\n  </thead>\n  <tbody>\n    <tr>\n      <th>0</th>\n      <td>True</td>\n      <td>2021-02-28 19:58:39</td>\n      <td>Paolo18030138</td>\n      <td>L'Italia non solo avrebbe le capacità di produ...</td>\n      <td>0</td>\n      <td>Italy would not only have the ability to produ...</td>\n      <td>0.250000</td>\n      <td>positive</td>\n      <td>1.0</td>\n      <td>0.0</td>\n      <td>0.0</td>\n      <td>2</td>\n      <td>28</td>\n      <td>4</td>\n      <td>0.250000</td>\n      <td>0.3182</td>\n      <td>2.0</td>\n    </tr>\n    <tr>\n      <th>1</th>\n      <td>True</td>\n      <td>2021-02-28 19:58:24</td>\n      <td>claire_cocteau</td>\n      <td>Il vaccino J&amp;amp;J è stato autorizzato negli S...</td>\n      <td>0</td>\n      <td>The J &amp; amp; J vaccine was authorized in the U...</td>\n      <td>0.107143</td>\n      <td>neutral</td>\n      <td>0.0</td>\n      <td>0.0</td>\n      <td>1.0</td>\n      <td>2</td>\n      <td>28</td>\n      <td>4</td>\n      <td>0.107143</td>\n      <td>0.8870</td>\n      <td>6.0</td>\n    </tr>\n    <tr>\n      <th>2</th>\n      <td>True</td>\n      <td>2021-02-28 19:58:22</td>\n      <td>Paolo18030138</td>\n      <td>Vediamo ad Astrazeneca. Il vaccino AZ è un vac...</td>\n      <td>0</td>\n      <td>Let's see Astrazeneca. The AZ vaccine is a vac...</td>\n      <td>0.150000</td>\n      <td>neutral</td>\n      <td>0.0</td>\n      <td>0.0</td>\n      <td>1.0</td>\n      <td>2</td>\n      <td>28</td>\n      <td>4</td>\n      <td>0.150000</td>\n      <td>0.2249</td>\n      <td>2.0</td>\n    </tr>\n    <tr>\n      <th>3</th>\n      <td>False</td>\n      <td>2021-02-28 19:58:17</td>\n      <td>robinaroby1</td>\n      <td>Ma solo io mi farei iniettare pure quello marc...</td>\n      <td>0</td>\n      <td>But only am I would like to inject that eurosp...</td>\n      <td>0.000000</td>\n      <td>neutral</td>\n      <td>0.0</td>\n      <td>0.0</td>\n      <td>1.0</td>\n      <td>2</td>\n      <td>28</td>\n      <td>4</td>\n      <td>0.000000</td>\n      <td>0.5574</td>\n      <td>2.0</td>\n    </tr>\n    <tr>\n      <th>4</th>\n      <td>True</td>\n      <td>2021-02-28 19:57:38</td>\n      <td>pvsassone</td>\n      <td>\"Bisogna sospendere i brevetti per far produrr...</td>\n      <td>0</td>\n      <td>\"The patents must be suspended to make Astraze...</td>\n      <td>0.122917</td>\n      <td>neutral</td>\n      <td>0.0</td>\n      <td>0.0</td>\n      <td>1.0</td>\n      <td>2</td>\n      <td>28</td>\n      <td>4</td>\n      <td>0.122917</td>\n      <td>-0.3195</td>\n      <td>2.0</td>\n    </tr>\n  </tbody>\n</table>\n</div>"
     },
     "metadata": {},
     "execution_count": 30
    }
   ],
   "source": [
    "AstraZeneca.head()"
   ]
  },
  {
   "cell_type": "code",
   "execution_count": 43,
   "metadata": {},
   "outputs": [],
   "source": [
    "Moderna['data'] = pd.to_datetime(Moderna['data']).dt.date\n",
    "Pfizer['data'] = pd.to_datetime(Pfizer['data']).dt.date\n",
    "AstraZeneca['data'] = pd.to_datetime(AstraZeneca['data']).dt.date"
   ]
  },
  {
   "cell_type": "code",
   "execution_count": 54,
   "metadata": {},
   "outputs": [],
   "source": [
    "Moderna['afinn polarity'] = Moderna['afinn polarity']/6\n",
    "Pfizer['afinn polarity'] = Pfizer['afinn polarity']/6\n",
    "AstraZeneca['afinn polarity'] = AstraZeneca['afinn polarity']/6"
   ]
  },
  {
   "cell_type": "code",
   "execution_count": 55,
   "metadata": {},
   "outputs": [],
   "source": [
    "Moderna_blob = Moderna.groupby(['data']).mean()['blob polarity'].reset_index()\n",
    "Pfizer_blob = Pfizer.groupby(['data']).mean()['blob polarity'].reset_index()\n",
    "AstraZeneca_blob = AstraZeneca.groupby(['data']).mean()['blob polarity'].reset_index()"
   ]
  },
  {
   "cell_type": "code",
   "execution_count": 56,
   "metadata": {},
   "outputs": [],
   "source": [
    "Moderna_vader = Moderna.groupby(['data']).mean()['vader polarity'].reset_index()\n",
    "Pfizer_vader = Pfizer.groupby(['data']).mean()['vader polarity'].reset_index()\n",
    "AstraZeneca_vader = AstraZeneca.groupby(['data']).mean()['vader polarity'].reset_index()"
   ]
  },
  {
   "cell_type": "code",
   "execution_count": 57,
   "metadata": {},
   "outputs": [],
   "source": [
    "Moderna_afinn = Moderna.groupby(['data']).mean()['afinn polarity'].reset_index()\n",
    "Pfizer_afinn = Pfizer.groupby(['data']).mean()['afinn polarity'].reset_index()\n",
    "AstraZeneca_afinn = AstraZeneca.groupby(['data']).mean()['afinn polarity'].reset_index()"
   ]
  },
  {
   "cell_type": "code",
   "execution_count": 48,
   "metadata": {},
   "outputs": [],
   "source": [
    "# create traces\n",
    "trace0 = go.Scatter(\n",
    "    x = Moderna_vader['data'],\n",
    "    y = Moderna_vader['vader polarity'],\n",
    "    mode = 'lines+markers',\n",
    "    name = 'Moderna'\n",
    ")\n",
    "\n",
    "trace1 = go.Scatter(\n",
    "    x = Pfizer_vader['data'],\n",
    "    y = Pfizer_vader['vader polarity'] ,\n",
    "    mode = 'lines+markers',\n",
    "    name = 'Pfizer'\n",
    ")\n",
    "\n",
    "trace2 = go.Scatter(\n",
    "    x = AstraZeneca_vader['data'],\n",
    "    y = AstraZeneca_vader['vader polarity'],\n",
    "    mode = 'lines+markers',\n",
    "    name = 'AstraZeneca'\n",
    ")"
   ]
  },
  {
   "cell_type": "code",
   "execution_count": 49,
   "metadata": {},
   "outputs": [
    {
     "output_type": "execute_result",
     "data": {
      "text/plain": [
       "'line1.html'"
      ]
     },
     "metadata": {},
     "execution_count": 49
    }
   ],
   "source": [
    "data = [trace0, trace1, trace2]  # assign traces to data\n",
    "\n",
    "layout = go.Layout(\n",
    "    title = 'Line chart showing three different modes')\n",
    "\n",
    "fig = go.Figure(data=data,layout=layout)\n",
    "pyo.plot(fig, filename='line1.html')"
   ]
  },
  {
   "cell_type": "code",
   "execution_count": 50,
   "metadata": {},
   "outputs": [
    {
     "output_type": "execute_result",
     "data": {
      "text/plain": [
       "'line1.html'"
      ]
     },
     "metadata": {},
     "execution_count": 50
    }
   ],
   "source": [
    "# create traces\n",
    "trace0 = go.Scatter(\n",
    "    x = Moderna_blob['data'],\n",
    "    y = Moderna_blob['blob polarity'],\n",
    "    mode = 'lines+markers',\n",
    "    name = 'Moderna'\n",
    ")\n",
    "\n",
    "trace1 = go.Scatter(\n",
    "    x = Pfizer_blob['data'],\n",
    "    y = Pfizer_blob['blob polarity'] ,\n",
    "    mode = 'lines+markers',\n",
    "    name = 'Pfizer'\n",
    ")\n",
    "\n",
    "trace2 = go.Scatter(\n",
    "    x = AstraZeneca_blob['data'],\n",
    "    y = AstraZeneca_blob['blob polarity'],\n",
    "    mode = 'lines+markers',\n",
    "    name = 'AstraZeneca'\n",
    ")\n",
    "\n",
    "data = [trace0, trace1, trace2]  # assign traces to data\n",
    "\n",
    "layout = go.Layout(\n",
    "    title = 'Line chart showing three different modes')\n",
    "\n",
    "fig = go.Figure(data=data,layout=layout)\n",
    "pyo.plot(fig, filename='line1.html')"
   ]
  },
  {
   "cell_type": "code",
   "execution_count": 58,
   "metadata": {},
   "outputs": [
    {
     "output_type": "execute_result",
     "data": {
      "text/plain": [
       "'line1.html'"
      ]
     },
     "metadata": {},
     "execution_count": 58
    }
   ],
   "source": [
    "# create traces\n",
    "trace0 = go.Scatter(\n",
    "    x = AstraZeneca_vader['data'],\n",
    "    y = AstraZeneca_vader['vader polarity'],\n",
    "    mode = 'lines+markers',\n",
    "    name = 'Vader'\n",
    ")\n",
    "\n",
    "trace1 = go.Scatter(\n",
    "    x = AstraZeneca_blob['data'],\n",
    "    y = AstraZeneca_blob['blob polarity'],\n",
    "    mode = 'lines+markers',\n",
    "    name = 'Blob'\n",
    ")\n",
    "\n",
    "trace2 = go.Scatter(\n",
    "    x = AstraZeneca_afinn['data'],\n",
    "    y = AstraZeneca_afinn['afinn polarity'],\n",
    "    mode = 'lines+markers',\n",
    "    name = 'Afinn'\n",
    ")\n",
    "\n",
    "data = [trace0, trace1, trace2]  # assign traces to data\n",
    "\n",
    "layout = go.Layout(\n",
    "    title = 'Line chart showing three different modes')\n",
    "\n",
    "fig = go.Figure(data=data,layout=layout)\n",
    "pyo.plot(fig, filename='line1.html')"
   ]
  },
  {
   "cell_type": "code",
   "execution_count": null,
   "metadata": {},
   "outputs": [],
   "source": []
  }
 ]
}